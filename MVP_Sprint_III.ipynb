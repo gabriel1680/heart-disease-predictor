{
  "cells": [
    {
      "cell_type": "markdown",
      "metadata": {
        "id": "otEdveLq8Hn0"
      },
      "source": [
        "# MVP Sprint III - Engenharia de Softwares inteligentes\n",
        "\n",
        "## Aluno: Gabriel Pedersoli Lopes"
      ]
    },
    {
      "cell_type": "markdown",
      "metadata": {
        "id": "G2A5V7FmruK7"
      },
      "source": [
        "## Importação das bibliotecas"
      ]
    },
    {
      "cell_type": "code",
      "execution_count": null,
      "metadata": {
        "id": "RCn8CH4M7wF-"
      },
      "outputs": [],
      "source": [
        "# configuração para não exibir os warnings\n",
        "import warnings\n",
        "warnings.filterwarnings(\"ignore\")\n",
        "\n",
        "# Imports necessários\n",
        "import pandas as pd\n",
        "import numpy as np\n",
        "import matplotlib.pyplot as plt\n",
        "from sklearn.preprocessing import StandardScaler\n",
        "from sklearn.preprocessing import MinMaxScaler\n",
        "from sklearn.model_selection import train_test_split\n",
        "from sklearn.model_selection import KFold\n",
        "from sklearn.model_selection import StratifiedKFold\n",
        "from sklearn.model_selection import cross_val_score\n",
        "from sklearn.model_selection import GridSearchCV\n",
        "from sklearn.metrics import accuracy_score\n",
        "from sklearn.pipeline import Pipeline\n",
        "from sklearn.tree import DecisionTreeClassifier\n",
        "from sklearn.neighbors import KNeighborsClassifier\n",
        "from sklearn.naive_bayes import GaussianNB\n",
        "from sklearn.svm import SVC\n",
        "from pickle import dump\n",
        "from pickle import load"
      ]
    },
    {
      "cell_type": "markdown",
      "metadata": {
        "id": "2PcB0Efd-MS4"
      },
      "source": [
        "## Importação, carregamento e normalização do dataset"
      ]
    },
    {
      "cell_type": "code",
      "execution_count": null,
      "metadata": {
        "colab": {
          "base_uri": "https://localhost:8080/"
        },
        "id": "29AFuCPtvG_i",
        "outputId": "b0a0332e-1d53-42ac-9df7-7ed48ca025aa"
      },
      "outputs": [
        {
          "data": {
            "text/html": [
              "\n",
              "  <div id=\"df-469aaed5-66f3-4b90-b1de-14170a4cd105\" class=\"colab-df-container\">\n",
              "    <div>\n",
              "<style scoped>\n",
              "    .dataframe tbody tr th:only-of-type {\n",
              "        vertical-align: middle;\n",
              "    }\n",
              "\n",
              "    .dataframe tbody tr th {\n",
              "        vertical-align: top;\n",
              "    }\n",
              "\n",
              "    .dataframe thead th {\n",
              "        text-align: right;\n",
              "    }\n",
              "</style>\n",
              "<table border=\"1\" class=\"dataframe\">\n",
              "  <thead>\n",
              "    <tr style=\"text-align: right;\">\n",
              "      <th></th>\n",
              "      <th>age</th>\n",
              "      <th>sex</th>\n",
              "      <th>cp</th>\n",
              "      <th>trestbps</th>\n",
              "      <th>chol</th>\n",
              "      <th>fbs</th>\n",
              "      <th>num</th>\n",
              "    </tr>\n",
              "  </thead>\n",
              "  <tbody>\n",
              "    <tr>\n",
              "      <th>0</th>\n",
              "      <td>28</td>\n",
              "      <td>1</td>\n",
              "      <td>2</td>\n",
              "      <td>130</td>\n",
              "      <td>132</td>\n",
              "      <td>0</td>\n",
              "      <td>0</td>\n",
              "    </tr>\n",
              "    <tr>\n",
              "      <th>1</th>\n",
              "      <td>29</td>\n",
              "      <td>1</td>\n",
              "      <td>2</td>\n",
              "      <td>120</td>\n",
              "      <td>243</td>\n",
              "      <td>0</td>\n",
              "      <td>0</td>\n",
              "    </tr>\n",
              "    <tr>\n",
              "      <th>3</th>\n",
              "      <td>30</td>\n",
              "      <td>0</td>\n",
              "      <td>1</td>\n",
              "      <td>170</td>\n",
              "      <td>237</td>\n",
              "      <td>0</td>\n",
              "      <td>0</td>\n",
              "    </tr>\n",
              "    <tr>\n",
              "      <th>4</th>\n",
              "      <td>31</td>\n",
              "      <td>0</td>\n",
              "      <td>2</td>\n",
              "      <td>100</td>\n",
              "      <td>219</td>\n",
              "      <td>0</td>\n",
              "      <td>0</td>\n",
              "    </tr>\n",
              "    <tr>\n",
              "      <th>5</th>\n",
              "      <td>32</td>\n",
              "      <td>0</td>\n",
              "      <td>2</td>\n",
              "      <td>105</td>\n",
              "      <td>198</td>\n",
              "      <td>0</td>\n",
              "      <td>0</td>\n",
              "    </tr>\n",
              "  </tbody>\n",
              "</table>\n",
              "</div>\n",
              "    <div class=\"colab-df-buttons\">\n",
              "\n",
              "  <div class=\"colab-df-container\">\n",
              "    <button class=\"colab-df-convert\" onclick=\"convertToInteractive('df-469aaed5-66f3-4b90-b1de-14170a4cd105')\"\n",
              "            title=\"Convert this dataframe to an interactive table.\"\n",
              "            style=\"display:none;\">\n",
              "\n",
              "  <svg xmlns=\"http://www.w3.org/2000/svg\" height=\"24px\" viewBox=\"0 -960 960 960\">\n",
              "    <path d=\"M120-120v-720h720v720H120Zm60-500h600v-160H180v160Zm220 220h160v-160H400v160Zm0 220h160v-160H400v160ZM180-400h160v-160H180v160Zm440 0h160v-160H620v160ZM180-180h160v-160H180v160Zm440 0h160v-160H620v160Z\"/>\n",
              "  </svg>\n",
              "    </button>\n",
              "\n",
              "  <style>\n",
              "    .colab-df-container {\n",
              "      display:flex;\n",
              "      gap: 12px;\n",
              "    }\n",
              "\n",
              "    .colab-df-convert {\n",
              "      background-color: #E8F0FE;\n",
              "      border: none;\n",
              "      border-radius: 50%;\n",
              "      cursor: pointer;\n",
              "      display: none;\n",
              "      fill: #1967D2;\n",
              "      height: 32px;\n",
              "      padding: 0 0 0 0;\n",
              "      width: 32px;\n",
              "    }\n",
              "\n",
              "    .colab-df-convert:hover {\n",
              "      background-color: #E2EBFA;\n",
              "      box-shadow: 0px 1px 2px rgba(60, 64, 67, 0.3), 0px 1px 3px 1px rgba(60, 64, 67, 0.15);\n",
              "      fill: #174EA6;\n",
              "    }\n",
              "\n",
              "    .colab-df-buttons div {\n",
              "      margin-bottom: 4px;\n",
              "    }\n",
              "\n",
              "    [theme=dark] .colab-df-convert {\n",
              "      background-color: #3B4455;\n",
              "      fill: #D2E3FC;\n",
              "    }\n",
              "\n",
              "    [theme=dark] .colab-df-convert:hover {\n",
              "      background-color: #434B5C;\n",
              "      box-shadow: 0px 1px 3px 1px rgba(0, 0, 0, 0.15);\n",
              "      filter: drop-shadow(0px 1px 2px rgba(0, 0, 0, 0.3));\n",
              "      fill: #FFFFFF;\n",
              "    }\n",
              "  </style>\n",
              "\n",
              "    <script>\n",
              "      const buttonEl =\n",
              "        document.querySelector('#df-469aaed5-66f3-4b90-b1de-14170a4cd105 button.colab-df-convert');\n",
              "      buttonEl.style.display =\n",
              "        google.colab.kernel.accessAllowed ? 'block' : 'none';\n",
              "\n",
              "      async function convertToInteractive(key) {\n",
              "        const element = document.querySelector('#df-469aaed5-66f3-4b90-b1de-14170a4cd105');\n",
              "        const dataTable =\n",
              "          await google.colab.kernel.invokeFunction('convertToInteractive',\n",
              "                                                    [key], {});\n",
              "        if (!dataTable) return;\n",
              "\n",
              "        const docLinkHtml = 'Like what you see? Visit the ' +\n",
              "          '<a target=\"_blank\" href=https://colab.research.google.com/notebooks/data_table.ipynb>data table notebook</a>'\n",
              "          + ' to learn more about interactive tables.';\n",
              "        element.innerHTML = '';\n",
              "        dataTable['output_type'] = 'display_data';\n",
              "        await google.colab.output.renderOutput(dataTable, element);\n",
              "        const docLink = document.createElement('div');\n",
              "        docLink.innerHTML = docLinkHtml;\n",
              "        element.appendChild(docLink);\n",
              "      }\n",
              "    </script>\n",
              "  </div>\n",
              "\n",
              "\n",
              "<div id=\"df-d3c42a2b-8f92-4be5-81c4-5861105654ba\">\n",
              "  <button class=\"colab-df-quickchart\" onclick=\"quickchart('df-d3c42a2b-8f92-4be5-81c4-5861105654ba')\"\n",
              "            title=\"Suggest charts\"\n",
              "            style=\"display:none;\">\n",
              "\n",
              "<svg xmlns=\"http://www.w3.org/2000/svg\" height=\"24px\"viewBox=\"0 0 24 24\"\n",
              "     width=\"24px\">\n",
              "    <g>\n",
              "        <path d=\"M19 3H5c-1.1 0-2 .9-2 2v14c0 1.1.9 2 2 2h14c1.1 0 2-.9 2-2V5c0-1.1-.9-2-2-2zM9 17H7v-7h2v7zm4 0h-2V7h2v10zm4 0h-2v-4h2v4z\"/>\n",
              "    </g>\n",
              "</svg>\n",
              "  </button>\n",
              "\n",
              "<style>\n",
              "  .colab-df-quickchart {\n",
              "      --bg-color: #E8F0FE;\n",
              "      --fill-color: #1967D2;\n",
              "      --hover-bg-color: #E2EBFA;\n",
              "      --hover-fill-color: #174EA6;\n",
              "      --disabled-fill-color: #AAA;\n",
              "      --disabled-bg-color: #DDD;\n",
              "  }\n",
              "\n",
              "  [theme=dark] .colab-df-quickchart {\n",
              "      --bg-color: #3B4455;\n",
              "      --fill-color: #D2E3FC;\n",
              "      --hover-bg-color: #434B5C;\n",
              "      --hover-fill-color: #FFFFFF;\n",
              "      --disabled-bg-color: #3B4455;\n",
              "      --disabled-fill-color: #666;\n",
              "  }\n",
              "\n",
              "  .colab-df-quickchart {\n",
              "    background-color: var(--bg-color);\n",
              "    border: none;\n",
              "    border-radius: 50%;\n",
              "    cursor: pointer;\n",
              "    display: none;\n",
              "    fill: var(--fill-color);\n",
              "    height: 32px;\n",
              "    padding: 0;\n",
              "    width: 32px;\n",
              "  }\n",
              "\n",
              "  .colab-df-quickchart:hover {\n",
              "    background-color: var(--hover-bg-color);\n",
              "    box-shadow: 0 1px 2px rgba(60, 64, 67, 0.3), 0 1px 3px 1px rgba(60, 64, 67, 0.15);\n",
              "    fill: var(--button-hover-fill-color);\n",
              "  }\n",
              "\n",
              "  .colab-df-quickchart-complete:disabled,\n",
              "  .colab-df-quickchart-complete:disabled:hover {\n",
              "    background-color: var(--disabled-bg-color);\n",
              "    fill: var(--disabled-fill-color);\n",
              "    box-shadow: none;\n",
              "  }\n",
              "\n",
              "  .colab-df-spinner {\n",
              "    border: 2px solid var(--fill-color);\n",
              "    border-color: transparent;\n",
              "    border-bottom-color: var(--fill-color);\n",
              "    animation:\n",
              "      spin 1s steps(1) infinite;\n",
              "  }\n",
              "\n",
              "  @keyframes spin {\n",
              "    0% {\n",
              "      border-color: transparent;\n",
              "      border-bottom-color: var(--fill-color);\n",
              "      border-left-color: var(--fill-color);\n",
              "    }\n",
              "    20% {\n",
              "      border-color: transparent;\n",
              "      border-left-color: var(--fill-color);\n",
              "      border-top-color: var(--fill-color);\n",
              "    }\n",
              "    30% {\n",
              "      border-color: transparent;\n",
              "      border-left-color: var(--fill-color);\n",
              "      border-top-color: var(--fill-color);\n",
              "      border-right-color: var(--fill-color);\n",
              "    }\n",
              "    40% {\n",
              "      border-color: transparent;\n",
              "      border-right-color: var(--fill-color);\n",
              "      border-top-color: var(--fill-color);\n",
              "    }\n",
              "    60% {\n",
              "      border-color: transparent;\n",
              "      border-right-color: var(--fill-color);\n",
              "    }\n",
              "    80% {\n",
              "      border-color: transparent;\n",
              "      border-right-color: var(--fill-color);\n",
              "      border-bottom-color: var(--fill-color);\n",
              "    }\n",
              "    90% {\n",
              "      border-color: transparent;\n",
              "      border-bottom-color: var(--fill-color);\n",
              "    }\n",
              "  }\n",
              "</style>\n",
              "\n",
              "  <script>\n",
              "    async function quickchart(key) {\n",
              "      const quickchartButtonEl =\n",
              "        document.querySelector('#' + key + ' button');\n",
              "      quickchartButtonEl.disabled = true;  // To prevent multiple clicks.\n",
              "      quickchartButtonEl.classList.add('colab-df-spinner');\n",
              "      try {\n",
              "        const charts = await google.colab.kernel.invokeFunction(\n",
              "            'suggestCharts', [key], {});\n",
              "      } catch (error) {\n",
              "        console.error('Error during call to suggestCharts:', error);\n",
              "      }\n",
              "      quickchartButtonEl.classList.remove('colab-df-spinner');\n",
              "      quickchartButtonEl.classList.add('colab-df-quickchart-complete');\n",
              "    }\n",
              "    (() => {\n",
              "      let quickchartButtonEl =\n",
              "        document.querySelector('#df-d3c42a2b-8f92-4be5-81c4-5861105654ba button');\n",
              "      quickchartButtonEl.style.display =\n",
              "        google.colab.kernel.accessAllowed ? 'block' : 'none';\n",
              "    })();\n",
              "  </script>\n",
              "</div>\n",
              "    </div>\n",
              "  </div>\n"
            ],
            "text/plain": [
              "   age  sex  cp trestbps chol fbs  num\n",
              "0   28    1   2      130  132   0    0\n",
              "1   29    1   2      120  243   0    0\n",
              "3   30    0   1      170  237   0    0\n",
              "4   31    0   2      100  219   0    0\n",
              "5   32    0   2      105  198   0    0"
            ]
          },
          "execution_count": 25,
          "metadata": {},
          "output_type": "execute_result"
        }
      ],
      "source": [
        "# Carregamento do dataset\n",
        "\n",
        "# URL de importação do dataset\n",
        "url = \"https://raw.githubusercontent.com/gabriel1680/heart-disease-predictor/main/api/data/dataset.csv\"\n",
        "\n",
        "# Lê o arquivo utilizando as colunas informadas\n",
        "cols = [\"age\", \"sex\", \"cp\", \"trestbps\", \"chol\", \"fbs\", \"num\"]\n",
        "dataframe = pd.read_csv(url, skiprows=0, delimiter=',', usecols=cols)\n",
        "\n",
        "# Remove as linhas que possuem o valor '?' das colunas informadas\n",
        "dataset = dataframe.query(\"chol != '?' & fbs != '?' & trestbps != '?'\")\n",
        "\n",
        "# Mostra as primeiras linhas do dataset\n",
        "dataset.head()"
      ]
    },
    {
      "cell_type": "markdown",
      "metadata": {
        "id": "mE4-PIaTAfKX"
      },
      "source": [
        "## Separação dos conjuntos de treino e teste, com holdout"
      ]
    },
    {
      "cell_type": "code",
      "execution_count": null,
      "metadata": {
        "id": "fEiAm3LEAfPt"
      },
      "outputs": [],
      "source": [
        "test_size = 0.20 # tamanho do conjunto de teste\n",
        "seed = 7 # semente aleatória\n",
        "\n",
        "# Separação dos dados (características e target)\n",
        "array = dataset.values\n",
        "X = array[:,0:6]\n",
        "y = array[:,6].astype(int) # casting object -> int\n",
        "\n",
        "X_train, X_test, y_train, y_test = train_test_split(X, y,\n",
        "    test_size=test_size, shuffle=True, random_state=seed, stratify=y) # holdout com estratificação\n",
        "\n",
        "# Parâmetros e partições da validação cruzada\n",
        "kfold = StratifiedKFold(n_splits=10, shuffle=True, random_state=seed) # validação cruzada com estratificação\n",
        "scoring = \"accuracy\" # definindo o tipo de scoring"
      ]
    },
    {
      "cell_type": "markdown",
      "metadata": {
        "id": "f2OGe0DtAfU4"
      },
      "source": [
        "## Modelagem e Inferência"
      ]
    },
    {
      "cell_type": "markdown",
      "metadata": {
        "id": "pwHzQpbX9QQh"
      },
      "source": [
        "### Criação e avaliação de modelos: linha base"
      ]
    },
    {
      "cell_type": "code",
      "execution_count": null,
      "metadata": {
        "colab": {
          "base_uri": "https://localhost:8080/",
          "height": 1000
        },
        "id": "eAhfSnnIAfke",
        "outputId": "a2ce1f10-3bc6-4a03-b1c2-4e659b1059ba"
      },
      "outputs": [
        {
          "name": "stdout",
          "output_type": "stream",
          "text": [
            "KNN: 0.541429 (0.095619)\n",
            "CART: 0.675476 (0.106990)\n",
            "NB: 0.732143 (0.088007)\n",
            "SVM: 0.641190 (0.031081)\n"
          ]
        },
        {
          "data": {
            "image/png": "[encoded data removed]",
            "text/plain": [
              "<Figure size 1500x1000 with 1 Axes>"
            ]
          },
          "metadata": {},
          "output_type": "display_data"
        }
      ],
      "source": [
        "np.random.seed(seed) # definindo uma semente global\n",
        "\n",
        "# Lista que armazenará os modelos\n",
        "models = []\n",
        "\n",
        "# Crianção das listas de modelos\n",
        "models.append(('KNN', KNeighborsClassifier()))\n",
        "models.append(('CART', DecisionTreeClassifier()))\n",
        "models.append(('NB', GaussianNB()))\n",
        "models.append(('SVM', SVC()))\n",
        "\n",
        "# Listas para armazenar os resultados\n",
        "results = []\n",
        "names = []\n",
        "\n",
        "# Avaliação dos modelos\n",
        "for name, model in models:\n",
        "    cv_results = cross_val_score(model, X_train, y_train, cv=kfold, scoring=scoring)\n",
        "    results.append(cv_results)\n",
        "    names.append(name)\n",
        "    msg = \"%s: %f (%f)\" % (name, cv_results.mean(), cv_results.std())\n",
        "    print(msg)\n",
        "\n",
        "# Boxplot de comparação dos modelos\n",
        "fig = plt.figure(figsize=(15,10))\n",
        "fig.suptitle('Comparação dos Modelos')\n",
        "ax = fig.add_subplot(111)\n",
        "plt.boxplot(results)\n",
        "ax.set_xticklabels(names)\n",
        "plt.show()"
      ]
    },
    {
      "cell_type": "markdown",
      "metadata": {
        "id": "olo7SPk2BvvW"
      },
      "source": [
        "### Criação e avaliação de modelos: dados padronizados e normalizados"
      ]
    },
    {
      "cell_type": "code",
      "execution_count": null,
      "metadata": {
        "colab": {
          "base_uri": "https://localhost:8080/",
          "height": 646
        },
        "id": "hmQbiYQdBRDW",
        "outputId": "7f25bcb7-e1b3-4d30-b366-3e3630818684"
      },
      "outputs": [
        {
          "name": "stdout",
          "output_type": "stream",
          "text": [
            "KNN-orig: 0.541 (0.096)\n",
            "CART-orig: 0.675 (0.107)\n",
            "NB-orig: 0.732 (0.088)\n",
            "SVM-orig: 0.641 (0.031)\n",
            "KNN-padr: 0.732 (0.064)\n",
            "CART-padr: 0.666 (0.096)\n",
            "NB-padr: 0.732 (0.088)\n",
            "SVM-padr: 0.760 (0.049)\n",
            "KNN-norm: 0.746 (0.072)\n",
            "CART-norm: 0.641 (0.090)\n",
            "NB-norm: 0.732 (0.088)\n",
            "SVM-norm: 0.780 (0.055)\n"
          ]
        },
        {
          "data": {
            "image/png": "[encoded data removed]",
            "text/plain": [
              "<Figure size 2500x600 with 1 Axes>"
            ]
          },
          "metadata": {},
          "output_type": "display_data"
        }
      ],
      "source": [
        "# semente global para este bloco\n",
        "np.random.seed(seed)\n",
        "\n",
        "# Listas para armazenar os armazenar os pipelines e os resultados para todas as visões do dataset\n",
        "pipelines = []\n",
        "results = []\n",
        "names = []\n",
        "\n",
        "# Criação dos elementos do pipeline\n",
        "\n",
        "# Algoritmos que serão utilizados\n",
        "knn = ('KNN', KNeighborsClassifier())\n",
        "cart = ('CART', DecisionTreeClassifier())\n",
        "naive_bayes = ('NB', GaussianNB())\n",
        "svm = ('SVM', SVC())\n",
        "\n",
        "# Transformações que serão utilizadas\n",
        "standard_scaler = ('StandardScaler', StandardScaler())\n",
        "min_max_scaler = ('MinMaxScaler', MinMaxScaler())\n",
        "\n",
        "# Montando os pipelines\n",
        "\n",
        "# Dataset original\n",
        "pipelines.append(('KNN-orig', Pipeline([knn])))\n",
        "pipelines.append(('CART-orig', Pipeline([cart])))\n",
        "pipelines.append(('NB-orig', Pipeline([naive_bayes])))\n",
        "pipelines.append(('SVM-orig', Pipeline([svm])))\n",
        "\n",
        "# Dataset Padronizado\n",
        "pipelines.append(('KNN-padr', Pipeline([standard_scaler, knn])))\n",
        "pipelines.append(('CART-padr', Pipeline([standard_scaler, cart])))\n",
        "pipelines.append(('NB-padr', Pipeline([standard_scaler, naive_bayes])))\n",
        "pipelines.append(('SVM-padr', Pipeline([standard_scaler, svm])))\n",
        "\n",
        "# Dataset Normalizado\n",
        "pipelines.append(('KNN-norm', Pipeline([min_max_scaler, knn])))\n",
        "pipelines.append(('CART-norm', Pipeline([min_max_scaler, cart])))\n",
        "pipelines.append(('NB-norm', Pipeline([min_max_scaler, naive_bayes])))\n",
        "pipelines.append(('SVM-norm', Pipeline([min_max_scaler, svm])))\n",
        "\n",
        "# Executando os pipelines\n",
        "for name, model in pipelines:\n",
        "    cv_results = cross_val_score(model, X_train, y_train, cv=kfold, scoring=scoring)\n",
        "    results.append(cv_results)\n",
        "    names.append(name)\n",
        "    print(\"%s: %.3f (%.3f)\" % (name, cv_results.mean(), cv_results.std()))\n",
        "\n",
        "# Boxplot de comparação dos modelos\n",
        "fig = plt.figure(figsize=(25,6))\n",
        "fig.suptitle('Comparação dos Modelos - Dataset orginal, padronizado e normalizado')\n",
        "ax = fig.add_subplot(111)\n",
        "plt.boxplot(results)\n",
        "ax.set_xticklabels(names, rotation=90)\n",
        "plt.show()"
      ]
    },
    {
      "cell_type": "markdown",
      "metadata": {
        "id": "ns3vPgXLNJQg"
      },
      "source": [
        "Pode-se notar que pela validação cruzada o modelo que se saiu melhor na comparação utilizando o parâmetro escolhido (acurácia), foi o SVM com dados normalizados. O modelo alcançou uma acurácia de 78,00%.\n",
        "\n",
        "O próximo passo é testar as mesmas configurações dos modelos, mas agora com a otimização dos hiperparâmetros e verificar se haverá alguma alteração nos resultados."
      ]
    },
    {
      "cell_type": "markdown",
      "metadata": {
        "id": "f-f2vCU5CMmp"
      },
      "source": [
        "## Otimização de hiperparâmetros e seleção do modelo (pode demorar até 2 min)\n",
        "\n"
      ]
    },
    {
      "cell_type": "markdown",
      "metadata": {
        "id": "f6dmZo8tjQSx"
      },
      "source": [
        "#### Definição de funções e variáveis que serão utilizadas nesse bloco"
      ]
    },
    {
      "cell_type": "code",
      "execution_count": null,
      "metadata": {
        "id": "Y8KuHraBBZ7W"
      },
      "outputs": [],
      "source": [
        "# semente global\n",
        "np.random.seed(seed)\n",
        "\n",
        "# Lista com os melhores resultados para a comparação\n",
        "models_results = []\n",
        "\n",
        "\n",
        "def measure_model_with_optimized_hyperparams(model_name, model, param_grid):\n",
        "  \"\"\"Função para gerar os melhores valores de cada modelo com otimização de parâmetros.\n",
        "  \"\"\"\n",
        "  # Transformações que serão utilizadas\n",
        "  standard_scaler = ('StandardScaler', StandardScaler())\n",
        "  min_max_scaler = ('MinMaxScaler', MinMaxScaler())\n",
        "\n",
        "  # Criação do pipeline\n",
        "  pipelines = []\n",
        "  pipelines.append((\"%s-orig\" % model_name, Pipeline([model])))\n",
        "  pipelines.append((\"%s-padr\" % model_name, Pipeline([standard_scaler, model])))\n",
        "  pipelines.append((\"%s-norm\" % model_name, Pipeline([min_max_scaler, model])))\n",
        "\n",
        "  # Preparação e execução do GridSearchCV + preenchimendo dos resultados\n",
        "  for name, model in pipelines:\n",
        "      grid = GridSearchCV(estimator=model, param_grid=param_grid, scoring=scoring, cv=kfold)\n",
        "      grid.fit(X_train, y_train)\n",
        "      # Preenchimento da lista com os resultados\n",
        "      models_results.append((name, grid.best_score_, grid.best_params_))\n",
        "      print(\"%s - Melhor: %f usando %s\" % (name, grid.best_score_, grid.best_params_))\n",
        "\n",
        "\n",
        "def get_chart_axis_data():\n",
        "  \"\"\"Gera os valores do eixo do gráfico de plot.\n",
        "  \"\"\"\n",
        "\n",
        "  labels = []\n",
        "  scores = []\n",
        "  for name, score, params in models_results:\n",
        "    labels.append(name)\n",
        "    scores.append(score)\n",
        "\n",
        "  return labels, scores\n",
        "\n",
        "\n",
        "def get_result():\n",
        "  \"\"\"Gera a estrutura de resultado para o plot.\n",
        "  \"\"\"\n",
        "\n",
        "  result = { 'model': None, 'score': 0.0, 'params': None }\n",
        "  for name, score, params in models_results:\n",
        "\n",
        "    if score >= result[\"score\"]:\n",
        "      result[\"score\"] = score\n",
        "      result[\"model\"] = name\n",
        "      result[\"params\"] = params\n",
        "\n",
        "  return result"
      ]
    },
    {
      "cell_type": "markdown",
      "metadata": {
        "id": "nX8VSambejWA"
      },
      "source": [
        "#### Teste dos modelos com otimização de hiperparâmetros"
      ]
    },
    {
      "cell_type": "code",
      "execution_count": null,
      "metadata": {
        "colab": {
          "base_uri": "https://localhost:8080/"
        },
        "id": "CVQkjmpXeocg",
        "outputId": "e334dc50-607d-49d7-abe9-3e6d9a6782b6"
      },
      "outputs": [
        {
          "name": "stdout",
          "output_type": "stream",
          "text": [
            "knn-orig - Melhor: 0.641429 usando {'KNN__metric': 'manhattan', 'KNN__n_neighbors': 19}\n",
            "knn-padr - Melhor: 0.779524 usando {'KNN__metric': 'manhattan', 'KNN__n_neighbors': 17}\n",
            "knn-norm - Melhor: 0.794048 usando {'KNN__metric': 'manhattan', 'KNN__n_neighbors': 9}\n",
            "cart-orig - Melhor: 0.789048 usando {'CART__max_depth': 2, 'CART__min_samples_leaf': 8}\n",
            "cart-padr - Melhor: 0.789048 usando {'CART__max_depth': 2, 'CART__min_samples_leaf': 8}\n",
            "cart-norm - Melhor: 0.789048 usando {'CART__max_depth': 2, 'CART__min_samples_leaf': 8}\n",
            "svm-orig - Melhor: 0.750952 usando {'SVM__C': 0.1, 'SVM__gamma': 'scale', 'SVM__kernel': 'linear'}\n",
            "svm-padr - Melhor: 0.765000 usando {'SVM__C': 1, 'SVM__gamma': 'scale', 'SVM__kernel': 'linear'}\n",
            "svm-norm - Melhor: 0.779524 usando {'SVM__C': 1, 'SVM__gamma': 'auto', 'SVM__kernel': 'rbf'}\n",
            "nb-orig - Melhor: 0.751190 usando {'NB__var_smoothing': 1.873817422860383e-05}\n",
            "nb-padr - Melhor: 0.736905 usando {'NB__var_smoothing': 0.04328761281083057}\n",
            "nb-norm - Melhor: 0.760714 usando {'NB__var_smoothing': 0.3511191734215131}\n"
          ]
        }
      ],
      "source": [
        "# Algoritmos que serão utilizados\n",
        "\n",
        "knn = ('KNN', KNeighborsClassifier())\n",
        "cart = ('CART', DecisionTreeClassifier())\n",
        "svm = ('SVM', SVC())\n",
        "nb = ('NB', GaussianNB())\n",
        "\n",
        "# Tuning dos hiperparâmetros dos algoritmos utilizados\n",
        "\n",
        "param_grid_knn = {\n",
        "    'KNN__n_neighbors': [1, 3, 5, 7, 9, 11, 13, 15, 17, 19, 21],\n",
        "    'KNN__metric': [\"euclidean\", \"manhattan\", \"minkowski\"]\n",
        "}\n",
        "\n",
        "param_grid_cart = {\n",
        "  'CART__max_depth': list(range(10)),\n",
        "  'CART__min_samples_leaf': list(range(10))\n",
        "}\n",
        "\n",
        "param_grid_svm = {\n",
        "  'SVM__C': [0.1, 1, 10],\n",
        "  'SVM__gamma': ['scale', 'auto'],\n",
        "  'SVM__kernel': ['linear', 'rbf', 'sigmoid']\n",
        "}\n",
        "\n",
        "param_grid_nb = {\n",
        "  'NB__var_smoothing': np.logspace(0,-9, num=100)\n",
        "}\n",
        "\n",
        "# Geração dos melhores com as melhores combinações de hiperparâmetros\n",
        "\n",
        "measure_model_with_optimized_hyperparams(\"knn\", knn, param_grid_knn)\n",
        "measure_model_with_optimized_hyperparams(\"cart\", cart, param_grid_cart)\n",
        "measure_model_with_optimized_hyperparams(\"svm\", svm, param_grid_svm)\n",
        "measure_model_with_optimized_hyperparams(\"nb\", nb, param_grid_nb)"
      ]
    },
    {
      "cell_type": "markdown",
      "metadata": {
        "id": "nYIc0KXmA9Nl"
      },
      "source": [
        "#### Comparação dos modelos com hiperparâmetros otimizados"
      ]
    },
    {
      "cell_type": "code",
      "execution_count": null,
      "metadata": {
        "colab": {
          "base_uri": "https://localhost:8080/"
        },
        "id": "Kclc523WBFTS",
        "outputId": "ad1ff7ad-9bde-4eb3-8137-ed8082637b87"
      },
      "outputs": [
        {
          "name": "stdout",
          "output_type": "stream",
          "text": [
            "O modelo knn-norm, obteve o melhor resultado (acurácia de 79.40%) com os parâmetros {'KNN__metric': 'manhattan', 'KNN__n_neighbors': 9}\n",
            "\n"
          ]
        },
        {
          "data": {
            "image/png": "[encoded data removed]",
            "text/plain": [
              "<Figure size 2500x600 with 2 Axes>"
            ]
          },
          "metadata": {},
          "output_type": "display_data"
        }
      ],
      "source": [
        "# Melhor modelo e suas as configurações\n",
        "result = get_result()\n",
        "print(\"O modelo %s, obteve o melhor resultado (acurácia de %.2f%%) com os parâmetros %s\\n\" % (result[\"model\"], result[\"score\"] * 100, result['params']))\n",
        "\n",
        "# Boxplot de comparação dos modelos\n",
        "labels, scores = get_chart_axis_data()\n",
        "fig, axs = plt.subplots(1, 2, figsize=(25, 6), sharey=True)\n",
        "axs[0].bar(labels, scores)\n",
        "axs[1].scatter(labels, scores)\n",
        "fig.suptitle('Comparação dos Modelos - Dataset orginal, padronizado e normalizado com hiperparâmetros otimizados')\n",
        "plt.show()"
      ]
    },
    {
      "cell_type": "markdown",
      "metadata": {
        "id": "3dgAuz6JN6qx"
      },
      "source": [
        "Após a obtenção dos resultados para os modelos com as otimizações de hiperparâmetros, o modelo com o melhor resultado foi o KNN com o algoritmo manhatan e distância k = 9, atingindo uma acurácia de 79,40%.\n",
        "\n",
        "Com o modelo e suas configurações escolhidos, devemos agora treiná-lo com os dados teste, verificar sua acurácia e por fim salvá-lo em um arquivo pickle, que será posteriormente utilizado no projeto."
      ]
    },
    {
      "cell_type": "markdown",
      "metadata": {
        "id": "cuUpaYcwDRDt"
      },
      "source": [
        "## Finalização do modelo e armazenamento"
      ]
    },
    {
      "cell_type": "markdown",
      "metadata": {
        "id": "AUbgFRDrshAQ"
      },
      "source": [
        "### Finalização do modelo"
      ]
    },
    {
      "cell_type": "code",
      "execution_count": null,
      "metadata": {
        "colab": {
          "base_uri": "https://localhost:8080/"
        },
        "id": "lbrFxAbSDVIj",
        "outputId": "d1f53fcf-fb0d-40ff-9a5f-f483208d6993"
      },
      "outputs": [
        {
          "name": "stdout",
          "output_type": "stream",
          "text": [
            "0.8301886792452831\n"
          ]
        }
      ],
      "source": [
        "# Avaliação do modelo com o conjunto de testes\n",
        "\n",
        "# Preparação do modelo\n",
        "scaler = MinMaxScaler().fit(X_train) # ajuste do scaler com o conjunto de treino\n",
        "rescaled_X = scaler.transform(X_train) # aplicação da padronização no conjunto de treino\n",
        "model = KNeighborsClassifier(metric='manhattan', n_neighbors=9)\n",
        "model.fit(rescaled_X, y_train)\n",
        "\n",
        "# Estimativa da acurácia no conjunto de teste\n",
        "rescaled_test_X = scaler.transform(X_test) # aplicação da padronização no conjunto de teste\n",
        "predictions = model.predict(rescaled_test_X)\n",
        "print(accuracy_score(y_test, predictions))"
      ]
    },
    {
      "cell_type": "code",
      "execution_count": null,
      "metadata": {
        "colab": {
          "base_uri": "https://localhost:8080/"
        },
        "id": "iGeQHmeg4ziu",
        "outputId": "d4d3d901-256e-4c20-f185-fd8bdff3679a"
      },
      "outputs": [
        {
          "data": {
            "text/html": [
              "<style>#sk-container-id-5 {color: black;background-color: white;}#sk-container-id-5 pre{padding: 0;}#sk-container-id-5 div.sk-toggleable {background-color: white;}#sk-container-id-5 label.sk-toggleable__label {cursor: pointer;display: block;width: 100%;margin-bottom: 0;padding: 0.3em;box-sizing: border-box;text-align: center;}#sk-container-id-5 label.sk-toggleable__label-arrow:before {content: \"▸\";float: left;margin-right: 0.25em;color: #696969;}#sk-container-id-5 label.sk-toggleable__label-arrow:hover:before {color: black;}#sk-container-id-5 div.sk-estimator:hover label.sk-toggleable__label-arrow:before {color: black;}#sk-container-id-5 div.sk-toggleable__content {max-height: 0;max-width: 0;overflow: hidden;text-align: left;background-color: #f0f8ff;}#sk-container-id-5 div.sk-toggleable__content pre {margin: 0.2em;color: black;border-radius: 0.25em;background-color: #f0f8ff;}#sk-container-id-5 input.sk-toggleable__control:checked~div.sk-toggleable__content {max-height: 200px;max-width: 100%;overflow: auto;}#sk-container-id-5 input.sk-toggleable__control:checked~label.sk-toggleable__label-arrow:before {content: \"▾\";}#sk-container-id-5 div.sk-estimator input.sk-toggleable__control:checked~label.sk-toggleable__label {background-color: #d4ebff;}#sk-container-id-5 div.sk-label input.sk-toggleable__control:checked~label.sk-toggleable__label {background-color: #d4ebff;}#sk-container-id-5 input.sk-hidden--visually {border: 0;clip: rect(1px 1px 1px 1px);clip: rect(1px, 1px, 1px, 1px);height: 1px;margin: -1px;overflow: hidden;padding: 0;position: absolute;width: 1px;}#sk-container-id-5 div.sk-estimator {font-family: monospace;background-color: #f0f8ff;border: 1px dotted black;border-radius: 0.25em;box-sizing: border-box;margin-bottom: 0.5em;}#sk-container-id-5 div.sk-estimator:hover {background-color: #d4ebff;}#sk-container-id-5 div.sk-parallel-item::after {content: \"\";width: 100%;border-bottom: 1px solid gray;flex-grow: 1;}#sk-container-id-5 div.sk-label:hover label.sk-toggleable__label {background-color: #d4ebff;}#sk-container-id-5 div.sk-serial::before {content: \"\";position: absolute;border-left: 1px solid gray;box-sizing: border-box;top: 0;bottom: 0;left: 50%;z-index: 0;}#sk-container-id-5 div.sk-serial {display: flex;flex-direction: column;align-items: center;background-color: white;padding-right: 0.2em;padding-left: 0.2em;position: relative;}#sk-container-id-5 div.sk-item {position: relative;z-index: 1;}#sk-container-id-5 div.sk-parallel {display: flex;align-items: stretch;justify-content: center;background-color: white;position: relative;}#sk-container-id-5 div.sk-item::before, #sk-container-id-5 div.sk-parallel-item::before {content: \"\";position: absolute;border-left: 1px solid gray;box-sizing: border-box;top: 0;bottom: 0;left: 50%;z-index: -1;}#sk-container-id-5 div.sk-parallel-item {display: flex;flex-direction: column;z-index: 1;position: relative;background-color: white;}#sk-container-id-5 div.sk-parallel-item:first-child::after {align-self: flex-end;width: 50%;}#sk-container-id-5 div.sk-parallel-item:last-child::after {align-self: flex-start;width: 50%;}#sk-container-id-5 div.sk-parallel-item:only-child::after {width: 0;}#sk-container-id-5 div.sk-dashed-wrapped {border: 1px dashed gray;margin: 0 0.4em 0.5em 0.4em;box-sizing: border-box;padding-bottom: 0.4em;background-color: white;}#sk-container-id-5 div.sk-label label {font-family: monospace;font-weight: bold;display: inline-block;line-height: 1.2em;}#sk-container-id-5 div.sk-label-container {text-align: center;}#sk-container-id-5 div.sk-container {/* jupyter's `normalize.less` sets `[hidden] { display: none; }` but bootstrap.min.css set `[hidden] { display: none !important; }` so we also need the `!important` here to be able to override the default hidden behavior on the sphinx rendered scikit-learn.org. See: https://github.com/scikit-learn/scikit-learn/issues/21755 */display: inline-block !important;position: relative;}#sk-container-id-5 div.sk-text-repr-fallback {display: none;}</style><div id=\"sk-container-id-5\" class=\"sk-top-container\"><div class=\"sk-text-repr-fallback\"><pre>KNeighborsClassifier(metric=&#x27;manhattan&#x27;, n_neighbors=9)</pre><b>In a Jupyter environment, please rerun this cell to show the HTML representation or trust the notebook. <br />On GitHub, the HTML representation is unable to render, please try loading this page with nbviewer.org.</b></div><div class=\"sk-container\" hidden><div class=\"sk-item\"><div class=\"sk-estimator sk-toggleable\"><input class=\"sk-toggleable__control sk-hidden--visually\" id=\"sk-estimator-id-5\" type=\"checkbox\" checked><label for=\"sk-estimator-id-5\" class=\"sk-toggleable__label sk-toggleable__label-arrow\">KNeighborsClassifier</label><div class=\"sk-toggleable__content\"><pre>KNeighborsClassifier(metric=&#x27;manhattan&#x27;, n_neighbors=9)</pre></div></div></div></div></div>"
            ],
            "text/plain": [
              "KNeighborsClassifier(metric='manhattan', n_neighbors=9)"
            ]
          },
          "execution_count": 34,
          "metadata": {},
          "output_type": "execute_result"
        }
      ],
      "source": [
        "# Preparação do modelo com todo o dataset\n",
        "scaler = MinMaxScaler().fit(X) # ajuste do scaler com todo o dataset\n",
        "rescaled_X = scaler.transform(X) # aplicação da padronização com todo o dataset\n",
        "model.fit(rescaled_X, y)"
      ]
    },
    {
      "cell_type": "markdown",
      "metadata": {
        "id": "qGcElMKpskIS"
      },
      "source": [
        "### Armazenamento"
      ]
    },
    {
      "cell_type": "code",
      "execution_count": null,
      "metadata": {
        "id": "5SqOwgbysmtW"
      },
      "outputs": [],
      "source": [
        "# Salva o modelo no disco\n",
        "filename = 'model.pkl'\n",
        "dump(model, open(filename, 'wb'))"
      ]
    },
    {
      "cell_type": "markdown",
      "metadata": {
        "id": "YEx03zFNsl8b"
      },
      "source": []
    },
    {
      "cell_type": "markdown",
      "metadata": {
        "id": "xZ-FQWZj_OtQ"
      },
      "source": [
        "## Simulando a aplicação do modelo em dados não vistos"
      ]
    },
    {
      "cell_type": "code",
      "execution_count": null,
      "metadata": {
        "colab": {
          "base_uri": "https://localhost:8080/"
        },
        "id": "JAIp6d9w5QG8",
        "outputId": "a5666cf4-8ad5-431b-de83-33d77e9f8646"
      },
      "outputs": [
        {
          "name": "stdout",
          "output_type": "stream",
          "text": [
            "\n",
            "Resultados\n",
            "[1 1 0]\n"
          ]
        }
      ],
      "source": [
        "# Novos dados - (não se sabe a classe)\n",
        "data = {\n",
        "  \"age\":  [58, 35, 42],\n",
        "  \"sex\": [1, 1, 0],\n",
        "  \"cp\": [3, 2, 1],\n",
        "  \"trestbps\": [125, 110, 135],\n",
        "  \"chol\": [305, 161, 184],\n",
        "  \"fbs\": [1, 0, 0],\n",
        "}\n",
        "\n",
        "# Criação do data frame\n",
        "df = pd.DataFrame(data)\n",
        "\n",
        "# Extração dos valores\n",
        "entry_array = df.values\n",
        "\n",
        "# Casting dos valores para float\n",
        "X_entry = entry_array[:,0:8].astype(float)\n",
        "\n",
        "# Predição de classes dos dados de entrada\n",
        "loaded_model = load(open(filename, 'rb')) # Carrega o modelo do disco\n",
        "results = loaded_model.predict(X_entry)\n",
        "print(\"\\nResultados\")\n",
        "print(results)"
      ]
    }
  ],
  "metadata": {
    "colab": {
      "collapsed_sections": [
        "G2A5V7FmruK7",
        "2PcB0Efd-MS4",
        "mE4-PIaTAfKX",
        "pwHzQpbX9QQh",
        "olo7SPk2BvvW",
        "f-f2vCU5CMmp",
        "f6dmZo8tjQSx",
        "nX8VSambejWA",
        "nYIc0KXmA9Nl",
        "cuUpaYcwDRDt",
        "AUbgFRDrshAQ",
        "qGcElMKpskIS",
        "xZ-FQWZj_OtQ"
      ],
      "provenance": []
    },
    "kernelspec": {
      "display_name": "Python 3",
      "name": "python3"
    }
  },
  "nbformat": 4,
  "nbformat_minor": 0
}
